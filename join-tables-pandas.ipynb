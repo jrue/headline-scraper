{
 "cells": [
  {
   "cell_type": "code",
   "execution_count": 2,
   "metadata": {},
   "outputs": [],
   "source": [
    "import pandas as pd"
   ]
  },
  {
   "cell_type": "code",
   "execution_count": 3,
   "metadata": {},
   "outputs": [],
   "source": [
    "df1 = pd.read_csv(\"news-links-with-id.csv\", keep_default_na=False)\n",
    "df2 = pd.read_csv(\"fake-names.csv\", keep_default_na=False)"
   ]
  },
  {
   "cell_type": "code",
   "execution_count": 4,
   "metadata": {},
   "outputs": [
    {
     "data": {
      "text/html": [
       "<div>\n",
       "<style scoped>\n",
       "    .dataframe tbody tr th:only-of-type {\n",
       "        vertical-align: middle;\n",
       "    }\n",
       "\n",
       "    .dataframe tbody tr th {\n",
       "        vertical-align: top;\n",
       "    }\n",
       "\n",
       "    .dataframe thead th {\n",
       "        text-align: right;\n",
       "    }\n",
       "</style>\n",
       "<table border=\"1\" class=\"dataframe\">\n",
       "  <thead>\n",
       "    <tr style=\"text-align: right;\">\n",
       "      <th></th>\n",
       "      <th>id</th>\n",
       "      <th>newslink</th>\n",
       "    </tr>\n",
       "  </thead>\n",
       "  <tbody>\n",
       "    <tr>\n",
       "      <th>0</th>\n",
       "      <td>6290375</td>\n",
       "      <td>http://archive.redding.com/news/ex-chp-officer...</td>\n",
       "    </tr>\n",
       "    <tr>\n",
       "      <th>1</th>\n",
       "      <td>7187899</td>\n",
       "      <td>http://archive.signalscv.com/archives/150962/</td>\n",
       "    </tr>\n",
       "    <tr>\n",
       "      <th>2</th>\n",
       "      <td>6646879</td>\n",
       "      <td>http://archive.vcstar.com/news/guilty-officer-...</td>\n",
       "    </tr>\n",
       "    <tr>\n",
       "      <th>3</th>\n",
       "      <td>6993951</td>\n",
       "      <td>http://archive.vcstar.com/news/local/sheriffs-...</td>\n",
       "    </tr>\n",
       "    <tr>\n",
       "      <th>4</th>\n",
       "      <td>1335727</td>\n",
       "      <td>http://archive.vcstar.com/news/sheriffs-deputy...</td>\n",
       "    </tr>\n",
       "  </tbody>\n",
       "</table>\n",
       "</div>"
      ],
      "text/plain": [
       "        id                                           newslink\n",
       "0  6290375  http://archive.redding.com/news/ex-chp-officer...\n",
       "1  7187899      http://archive.signalscv.com/archives/150962/\n",
       "2  6646879  http://archive.vcstar.com/news/guilty-officer-...\n",
       "3  6993951  http://archive.vcstar.com/news/local/sheriffs-...\n",
       "4  1335727  http://archive.vcstar.com/news/sheriffs-deputy..."
      ]
     },
     "execution_count": 4,
     "metadata": {},
     "output_type": "execute_result"
    }
   ],
   "source": [
    "df1.head()"
   ]
  },
  {
   "cell_type": "code",
   "execution_count": 5,
   "metadata": {
    "scrolled": true
   },
   "outputs": [
    {
     "data": {
      "text/html": [
       "<div>\n",
       "<style scoped>\n",
       "    .dataframe tbody tr th:only-of-type {\n",
       "        vertical-align: middle;\n",
       "    }\n",
       "\n",
       "    .dataframe tbody tr th {\n",
       "        vertical-align: top;\n",
       "    }\n",
       "\n",
       "    .dataframe thead th {\n",
       "        text-align: right;\n",
       "    }\n",
       "</style>\n",
       "<table border=\"1\" class=\"dataframe\">\n",
       "  <thead>\n",
       "    <tr style=\"text-align: right;\">\n",
       "      <th></th>\n",
       "      <th>code</th>\n",
       "      <th>fake_first_name</th>\n",
       "      <th>fake_last_name</th>\n",
       "    </tr>\n",
       "  </thead>\n",
       "  <tbody>\n",
       "    <tr>\n",
       "      <th>0</th>\n",
       "      <td>1002907</td>\n",
       "      <td>Jada</td>\n",
       "      <td>O'Shee</td>\n",
       "    </tr>\n",
       "    <tr>\n",
       "      <th>1</th>\n",
       "      <td>1014011</td>\n",
       "      <td>Turner</td>\n",
       "      <td>Hartnup</td>\n",
       "    </tr>\n",
       "    <tr>\n",
       "      <th>2</th>\n",
       "      <td>1039288</td>\n",
       "      <td>Danit</td>\n",
       "      <td>Haxby</td>\n",
       "    </tr>\n",
       "    <tr>\n",
       "      <th>3</th>\n",
       "      <td>1058674</td>\n",
       "      <td>Lynnea</td>\n",
       "      <td>Fibbit</td>\n",
       "    </tr>\n",
       "    <tr>\n",
       "      <th>4</th>\n",
       "      <td>1063462</td>\n",
       "      <td>Jon</td>\n",
       "      <td>Cahn</td>\n",
       "    </tr>\n",
       "  </tbody>\n",
       "</table>\n",
       "</div>"
      ],
      "text/plain": [
       "      code fake_first_name fake_last_name\n",
       "0  1002907            Jada         O'Shee\n",
       "1  1014011          Turner        Hartnup\n",
       "2  1039288           Danit          Haxby\n",
       "3  1058674          Lynnea         Fibbit\n",
       "4  1063462             Jon           Cahn"
      ]
     },
     "execution_count": 5,
     "metadata": {},
     "output_type": "execute_result"
    }
   ],
   "source": [
    "df2.head()"
   ]
  },
  {
   "cell_type": "code",
   "execution_count": 6,
   "metadata": {},
   "outputs": [
    {
     "name": "stdout",
     "output_type": "stream",
     "text": [
      "Length of news links document:  458\n",
      "Length of fake names document:  1000\n"
     ]
    }
   ],
   "source": [
    "print(\"Length of news links document: \", len(df1))\n",
    "print(\"Length of fake names document: \", len(df2))"
   ]
  },
  {
   "cell_type": "markdown",
   "metadata": {},
   "source": [
    "## Joining the data\n",
    "\n",
    "To join data, you'll need a common column between the two datasets. Additionally, you'll need to decide which of the two tables takes precedent in the join. Pandas uses four types of joins:\n",
    "\n",
    "* inner - The joined data will only have results that appear in both datasets that are connected.\n",
    "* outer - The joined data will preserve everything, even if it doesn't find a match.\n",
    "* left - Keep everything in left table, bring over only matches it finds in right table.\n",
    "* right - Keep everything in right table, bring over only matches it finds in left table.\n",
    "\n",
    "<img src=\"joins.png?\" width=\"50%\" height=\"auto\" style=\"display:block;margin-left:auto;\">"
   ]
  },
  {
   "cell_type": "code",
   "execution_count": 7,
   "metadata": {},
   "outputs": [
    {
     "data": {
      "text/html": [
       "<div>\n",
       "<style scoped>\n",
       "    .dataframe tbody tr th:only-of-type {\n",
       "        vertical-align: middle;\n",
       "    }\n",
       "\n",
       "    .dataframe tbody tr th {\n",
       "        vertical-align: top;\n",
       "    }\n",
       "\n",
       "    .dataframe thead th {\n",
       "        text-align: right;\n",
       "    }\n",
       "</style>\n",
       "<table border=\"1\" class=\"dataframe\">\n",
       "  <thead>\n",
       "    <tr style=\"text-align: right;\">\n",
       "      <th></th>\n",
       "      <th>id</th>\n",
       "      <th>newslink</th>\n",
       "      <th>code</th>\n",
       "      <th>fake_first_name</th>\n",
       "      <th>fake_last_name</th>\n",
       "    </tr>\n",
       "  </thead>\n",
       "  <tbody>\n",
       "    <tr>\n",
       "      <th>0</th>\n",
       "      <td>6290375</td>\n",
       "      <td>http://archive.redding.com/news/ex-chp-officer...</td>\n",
       "      <td>6290375</td>\n",
       "      <td>Kiel</td>\n",
       "      <td>Munby</td>\n",
       "    </tr>\n",
       "    <tr>\n",
       "      <th>1</th>\n",
       "      <td>7187899</td>\n",
       "      <td>http://archive.signalscv.com/archives/150962/</td>\n",
       "      <td>7187899</td>\n",
       "      <td>Darline</td>\n",
       "      <td>Maharry</td>\n",
       "    </tr>\n",
       "    <tr>\n",
       "      <th>2</th>\n",
       "      <td>6646879</td>\n",
       "      <td>http://archive.vcstar.com/news/guilty-officer-...</td>\n",
       "      <td>6646879</td>\n",
       "      <td>Constantina</td>\n",
       "      <td>Sansam</td>\n",
       "    </tr>\n",
       "    <tr>\n",
       "      <th>3</th>\n",
       "      <td>6993951</td>\n",
       "      <td>http://archive.vcstar.com/news/local/sheriffs-...</td>\n",
       "      <td>6993951</td>\n",
       "      <td>Palmer</td>\n",
       "      <td>Dispencer</td>\n",
       "    </tr>\n",
       "    <tr>\n",
       "      <th>4</th>\n",
       "      <td>1335727</td>\n",
       "      <td>http://archive.vcstar.com/news/sheriffs-deputy...</td>\n",
       "      <td>1335727</td>\n",
       "      <td>Kent</td>\n",
       "      <td>Emons</td>\n",
       "    </tr>\n",
       "  </tbody>\n",
       "</table>\n",
       "</div>"
      ],
      "text/plain": [
       "        id                                           newslink     code  \\\n",
       "0  6290375  http://archive.redding.com/news/ex-chp-officer...  6290375   \n",
       "1  7187899      http://archive.signalscv.com/archives/150962/  7187899   \n",
       "2  6646879  http://archive.vcstar.com/news/guilty-officer-...  6646879   \n",
       "3  6993951  http://archive.vcstar.com/news/local/sheriffs-...  6993951   \n",
       "4  1335727  http://archive.vcstar.com/news/sheriffs-deputy...  1335727   \n",
       "\n",
       "  fake_first_name fake_last_name  \n",
       "0            Kiel          Munby  \n",
       "1         Darline        Maharry  \n",
       "2     Constantina         Sansam  \n",
       "3          Palmer      Dispencer  \n",
       "4            Kent          Emons  "
      ]
     },
     "execution_count": 7,
     "metadata": {},
     "output_type": "execute_result"
    }
   ],
   "source": [
    "joined_data = pd.merge(df1, df2, how='left',left_on=['id'], right_on=['code'])\n",
    "joined_data.head()"
   ]
  },
  {
   "cell_type": "code",
   "execution_count": 8,
   "metadata": {},
   "outputs": [
    {
     "data": {
      "text/plain": [
       "458"
      ]
     },
     "execution_count": 8,
     "metadata": {},
     "output_type": "execute_result"
    }
   ],
   "source": [
    "len(joined_data)"
   ]
  },
  {
   "cell_type": "code",
   "execution_count": null,
   "metadata": {},
   "outputs": [],
   "source": []
  }
 ],
 "metadata": {
  "kernelspec": {
   "display_name": "Python 3",
   "language": "python",
   "name": "python3"
  },
  "language_info": {
   "codemirror_mode": {
    "name": "ipython",
    "version": 3
   },
   "file_extension": ".py",
   "mimetype": "text/x-python",
   "name": "python",
   "nbconvert_exporter": "python",
   "pygments_lexer": "ipython3",
   "version": "3.6.8"
  }
 },
 "nbformat": 4,
 "nbformat_minor": 2
}
